{
 "cells": [
  {
   "cell_type": "code",
   "execution_count": null,
   "id": "5186db7d",
   "metadata": {},
   "outputs": [],
   "source": [
    "# Main topic i want to explore. What changed between 2020-2021 season and the 2021-2022 season for the timberwolves\n",
    "# Some hypothesis I want to test out\n",
    "# It is due to injuries\n",
    "# Anthony edwards is playing better\n",
    "# KAT is playing better\n",
    "# New Addittions and trades\n",
    "# Our team has a better chemistry How do you measure chemistry\n",
    "# The schedule? "
   ]
  },
  {
   "cell_type": "code",
   "execution_count": null,
   "id": "0056043b",
   "metadata": {},
   "outputs": [],
   "source": [
    "#Structure of the analysis\n",
    "#Talk about the problem at hand and then come up with data that supports or refutes your claim\n",
    "# Start off with basic descriptive information about the team before and after and talk about changes in line up\n"
   ]
  },
  {
   "cell_type": "markdown",
   "id": "b45702b0",
   "metadata": {},
   "source": [
    "# "
   ]
  },
  {
   "cell_type": "markdown",
   "id": "9675c9b8",
   "metadata": {},
   "source": [
    "# How did the Timberwolves get to be a playoff team this year?"
   ]
  },
  {
   "cell_type": "markdown",
   "id": "0ba3d7d1",
   "metadata": {},
   "source": [
    "## Introduction\n",
    "\n",
    "The Minnesota Timberwolves have just record their 40th win of the season this past Monday with a dominating 60 point performance by KAT against the Spurs. KAT's 60 point game is the most any other player has scored this year and the first 60 point game by a center since Shaq.\n",
    "    \n",
    "So you might be thinking, KAT is playing better this season that is why we are at 40 wins for the first time since 2018. Or you maybe thinking its cause we have less injuries than last year. Or maybe its because we actually have a cohesive squad this year. Whatever you are thinking, I am going to explore these claims and some more claims as to why the timberwolves have been playing exponetially better than last years team.\n",
    "    \n",
    "## Comparison of the two seasons\n",
    "\n",
    "Minnesota played 72 games last season due to a shortened 2020-21 season due to covid. That season they finished with a record of 23-49 or a 31.9 win percentage. For the 2021-22 season, the Timberwolves have played 70 games so far and have a record of 40-30 or a 57.1 win percentage.\n",
    "\n",
    "So what is the cause for such a turn around of a season? When taking a look at the team data, I took a look at a key basketball stats and created per game averages to better compare the two seasons because the games played aren't the same. With those averages you can see below that not much changed except a few metrics that may help tell the story.\n",
    "\n",
    "The first thing to point out is the three point shooting. We are attempting around 4 more three point shots a game than last year and making more on average each game due to the increase. Our team 3pt percentage has also increased from 34.9% to 35.3% given the increase in 3 pt shooting on average per game.\n",
    "\n",
    "This increase in three point shooting has led to use increasing our pts per game from 112 at the end of the year last year to 115 pts per game up till the 70th game this year.\n",
    "\n",
    "Lastly, our rebound has gotten better. Our offensive rebounding has increased by a little under 1 offesnive rebound per game from last year and our total rebound has increased by 1 rebound per game from last year.\n",
    "\n",
    "But all the other other stats we see are pretty comparable so are the above points enough to cause enough of a change in win percetnage from the 2020-21 season to the 2021-22 season? I will let you all decide on your opinion but I believe that an increase in 3 pts attempted, 3 pt percentage, and rebounds are a big part in the turn around. Some other things to take into consideration is the change in defense but I will not touch upon that in this analysis\n",
    "\n",
    "Next things I will take a look at are a couple of players. I will be looking at KAT, Ant, and DLo,\n",
    "\n",
    "\n",
    "\n",
    "##\n",
    "\n",
    "\n",
    "    "
   ]
  },
  {
   "cell_type": "code",
   "execution_count": 7,
   "id": "c81e1fc4",
   "metadata": {},
   "outputs": [
    {
     "name": "stdout",
     "output_type": "stream",
     "text": [
      "Number of teams fetched: 30\n"
     ]
    },
    {
     "data": {
      "text/plain": [
       "1610612750"
      ]
     },
     "execution_count": 7,
     "metadata": {},
     "output_type": "execute_result"
    }
   ],
   "source": [
    "from nba_api.stats.static import teams\n",
    "# get_teams returns a list of 30 dictionaries, each an NBA team.\n",
    "nba_teams = teams.get_teams()\n",
    "print('Number of teams fetched: {}'.format(len(nba_teams)))\n",
    "twolves_id = [team for team in nba_teams if team['full_name'] == 'Minnesota Timberwolves'][0]['id']\n",
    "twolves_id"
   ]
  },
  {
   "cell_type": "code",
   "execution_count": 62,
   "id": "bc7cd38d",
   "metadata": {},
   "outputs": [
    {
     "ename": "TypeError",
     "evalue": "list indices must be integers or slices, not str",
     "output_type": "error",
     "traceback": [
      "\u001b[1;31m---------------------------------------------------------------------------\u001b[0m",
      "\u001b[1;31mTypeError\u001b[0m                                 Traceback (most recent call last)",
      "\u001b[1;32m<ipython-input-62-f46b60bb5f2f>\u001b[0m in \u001b[0;36m<module>\u001b[1;34m\u001b[0m\n\u001b[0;32m      2\u001b[0m \u001b[1;31m# get_teams returns a list of 30 dictionaries, each an NBA team.\u001b[0m\u001b[1;33m\u001b[0m\u001b[1;33m\u001b[0m\u001b[1;33m\u001b[0m\u001b[0m\n\u001b[0;32m      3\u001b[0m \u001b[1;31m# Find players by first name.\u001b[0m\u001b[1;33m\u001b[0m\u001b[1;33m\u001b[0m\u001b[1;33m\u001b[0m\u001b[0m\n\u001b[1;32m----> 4\u001b[1;33m \u001b[0mplayers\u001b[0m\u001b[1;33m.\u001b[0m\u001b[0mfind_players_by_full_name\u001b[0m\u001b[1;33m(\u001b[0m\u001b[1;34m'Karl-Anthony Towns'\u001b[0m\u001b[1;33m)\u001b[0m\u001b[1;33m[\u001b[0m\u001b[1;34m'id'\u001b[0m\u001b[1;33m]\u001b[0m\u001b[1;33m\u001b[0m\u001b[1;33m\u001b[0m\u001b[0m\n\u001b[0m",
      "\u001b[1;31mTypeError\u001b[0m: list indices must be integers or slices, not str"
     ]
    }
   ],
   "source": [
    "from nba_api.stats.static import players\n",
    "# get_teams returns a list of 30 dictionaries, each an NBA team.\n",
    "# Find players by first name.\n",
    "players.find_players_by_full_name('Karl-Anthony Towns')['id']\n"
   ]
  },
  {
   "cell_type": "code",
   "execution_count": 85,
   "id": "b2a43701",
   "metadata": {},
   "outputs": [],
   "source": [
    "from nba_api.stats.static import players\n",
    "# get_teams returns a list of 30 dictionaries, each an NBA team.\n",
    "# Find players by first name.\n",
    "kat_id = players.find_players_by_full_name(\"Karl-Anthony Towns\")[0]['id']\n",
    "joker_id = players.find_players_by_full_name(\"Nikola Jokic\")[0]['id']\n",
    "embiid_id = players.find_players_by_full_name(\"Joel Embiid\")[0]['id']\n",
    "ant_id = players.find_players_by_full_name(\"Anthony Edwards\")[0]['id']\n",
    "dlo_id = players.find_players_by_full_name(\"D'Angelo Russell\")[0]['id']\n",
    "patbev_id = players.find_players_by_full_name(\"Patrick Beverley\")[0]['id']\n",
    "\n",
    "id_list = [kat_id, joker_id, embiid_id, ant_id, dlo_id, patbev_id]"
   ]
  },
  {
   "cell_type": "code",
   "execution_count": 87,
   "id": "6e6facd0",
   "metadata": {},
   "outputs": [
    {
     "data": {
      "text/plain": [
       "6"
      ]
     },
     "execution_count": 87,
     "metadata": {},
     "output_type": "execute_result"
    }
   ],
   "source": [
    "len(id_list)"
   ]
  },
  {
   "cell_type": "code",
   "execution_count": 28,
   "id": "6eb7cc09",
   "metadata": {},
   "outputs": [
    {
     "data": {
      "text/html": [
       "<div>\n",
       "<style scoped>\n",
       "    .dataframe tbody tr th:only-of-type {\n",
       "        vertical-align: middle;\n",
       "    }\n",
       "\n",
       "    .dataframe tbody tr th {\n",
       "        vertical-align: top;\n",
       "    }\n",
       "\n",
       "    .dataframe thead th {\n",
       "        text-align: right;\n",
       "    }\n",
       "</style>\n",
       "<table border=\"1\" class=\"dataframe\">\n",
       "  <thead>\n",
       "    <tr style=\"text-align: right;\">\n",
       "      <th></th>\n",
       "      <th>TEAM_NAME</th>\n",
       "      <th>YEAR</th>\n",
       "      <th>GP</th>\n",
       "      <th>WINS</th>\n",
       "      <th>LOSSES</th>\n",
       "      <th>WIN_PCT</th>\n",
       "      <th>CONF_RANK</th>\n",
       "      <th>FGM</th>\n",
       "      <th>FGA</th>\n",
       "      <th>FG_PCT</th>\n",
       "      <th>FG3M</th>\n",
       "      <th>FG3A</th>\n",
       "      <th>FG3_PCT</th>\n",
       "      <th>FTM</th>\n",
       "      <th>FTA</th>\n",
       "      <th>FT_PCT</th>\n",
       "    </tr>\n",
       "  </thead>\n",
       "  <tbody>\n",
       "    <tr>\n",
       "      <th>31</th>\n",
       "      <td>Timberwolves</td>\n",
       "      <td>2020-21</td>\n",
       "      <td>72</td>\n",
       "      <td>23</td>\n",
       "      <td>49</td>\n",
       "      <td>0.319</td>\n",
       "      <td>13</td>\n",
       "      <td>2932</td>\n",
       "      <td>6546</td>\n",
       "      <td>0.448</td>\n",
       "      <td>944</td>\n",
       "      <td>2706</td>\n",
       "      <td>0.349</td>\n",
       "      <td>1265</td>\n",
       "      <td>1662</td>\n",
       "      <td>0.761</td>\n",
       "    </tr>\n",
       "    <tr>\n",
       "      <th>32</th>\n",
       "      <td>Timberwolves</td>\n",
       "      <td>2021-22</td>\n",
       "      <td>70</td>\n",
       "      <td>40</td>\n",
       "      <td>30</td>\n",
       "      <td>0.571</td>\n",
       "      <td>7</td>\n",
       "      <td>2899</td>\n",
       "      <td>6380</td>\n",
       "      <td>0.454</td>\n",
       "      <td>1029</td>\n",
       "      <td>2911</td>\n",
       "      <td>0.353</td>\n",
       "      <td>1228</td>\n",
       "      <td>1588</td>\n",
       "      <td>0.773</td>\n",
       "    </tr>\n",
       "  </tbody>\n",
       "</table>\n",
       "</div>"
      ],
      "text/plain": [
       "       TEAM_NAME     YEAR  GP  WINS  LOSSES  WIN_PCT  CONF_RANK   FGM   FGA  \\\n",
       "31  Timberwolves  2020-21  72    23      49    0.319         13  2932  6546   \n",
       "32  Timberwolves  2021-22  70    40      30    0.571          7  2899  6380   \n",
       "\n",
       "    FG_PCT  FG3M  FG3A  FG3_PCT   FTM   FTA  FT_PCT  \n",
       "31   0.448   944  2706    0.349  1265  1662   0.761  \n",
       "32   0.454  1029  2911    0.353  1228  1588   0.773  "
      ]
     },
     "execution_count": 28,
     "metadata": {},
     "output_type": "execute_result"
    }
   ],
   "source": [
    "from nba_api.stats.endpoints import teamyearbyyearstats\n",
    "twolves_season = teamyearbyyearstats.TeamYearByYearStats(team_id=twolves_id)\n",
    "tw_seas = twolves_season.get_data_frames()[0]\n",
    "tw_seas[['TEAM_NAME', 'YEAR', 'GP', 'WINS', 'LOSSES', 'WIN_PCT', 'CONF_RANK', 'FGM', 'FGA', 'FG_PCT', 'FG3M', 'FG3A', 'FG3_PCT', 'FTM', 'FTA', 'FT_PCT']].iloc[31:33]"
   ]
  },
  {
   "cell_type": "code",
   "execution_count": 45,
   "id": "9e0a9ba3",
   "metadata": {},
   "outputs": [],
   "source": [
    "try1 = tw_seas[['GP','FGM', 'FGA', 'FG3M', 'FG3A', 'FTM', 'FTA', 'OREB', 'DREB', 'REB', 'AST', 'PF', 'STL', 'TOV', 'BLK', 'PTS']].iloc[31:33]\n",
    "check=try1[['FGM', 'FGA', 'FG3M', 'FG3A', 'FTM', 'FTA','OREB', 'DREB', 'REB', 'AST', 'PF', 'STL', 'TOV', 'BLK', 'PTS']].div(try1.GP, axis=0)"
   ]
  },
  {
   "cell_type": "code",
   "execution_count": 38,
   "id": "5a47066a",
   "metadata": {},
   "outputs": [
    {
     "data": {
      "text/html": [
       "<div>\n",
       "<style scoped>\n",
       "    .dataframe tbody tr th:only-of-type {\n",
       "        vertical-align: middle;\n",
       "    }\n",
       "\n",
       "    .dataframe tbody tr th {\n",
       "        vertical-align: top;\n",
       "    }\n",
       "\n",
       "    .dataframe thead th {\n",
       "        text-align: right;\n",
       "    }\n",
       "</style>\n",
       "<table border=\"1\" class=\"dataframe\">\n",
       "  <thead>\n",
       "    <tr style=\"text-align: right;\">\n",
       "      <th></th>\n",
       "      <th>GP</th>\n",
       "      <th>OREB</th>\n",
       "      <th>DREB</th>\n",
       "      <th>REB</th>\n",
       "      <th>AST</th>\n",
       "      <th>PF</th>\n",
       "      <th>STL</th>\n",
       "      <th>TOV</th>\n",
       "      <th>BLK</th>\n",
       "      <th>PTS</th>\n",
       "    </tr>\n",
       "  </thead>\n",
       "  <tbody>\n",
       "    <tr>\n",
       "      <th>31</th>\n",
       "      <td>72</td>\n",
       "      <td>757</td>\n",
       "      <td>2376</td>\n",
       "      <td>3133</td>\n",
       "      <td>1846</td>\n",
       "      <td>1507</td>\n",
       "      <td>632</td>\n",
       "      <td>1027</td>\n",
       "      <td>398</td>\n",
       "      <td>8073</td>\n",
       "    </tr>\n",
       "    <tr>\n",
       "      <th>32</th>\n",
       "      <td>70</td>\n",
       "      <td>796</td>\n",
       "      <td>2325</td>\n",
       "      <td>3121</td>\n",
       "      <td>1788</td>\n",
       "      <td>1526</td>\n",
       "      <td>618</td>\n",
       "      <td>1016</td>\n",
       "      <td>406</td>\n",
       "      <td>8055</td>\n",
       "    </tr>\n",
       "  </tbody>\n",
       "</table>\n",
       "</div>"
      ],
      "text/plain": [
       "    GP  OREB  DREB   REB   AST    PF  STL   TOV  BLK   PTS\n",
       "31  72   757  2376  3133  1846  1507  632  1027  398  8073\n",
       "32  70   796  2325  3121  1788  1526  618  1016  406  8055"
      ]
     },
     "execution_count": 38,
     "metadata": {},
     "output_type": "execute_result"
    }
   ],
   "source": [
    "try1"
   ]
  },
  {
   "cell_type": "code",
   "execution_count": 46,
   "id": "c8aca709",
   "metadata": {},
   "outputs": [
    {
     "data": {
      "text/html": [
       "<div>\n",
       "<style scoped>\n",
       "    .dataframe tbody tr th:only-of-type {\n",
       "        vertical-align: middle;\n",
       "    }\n",
       "\n",
       "    .dataframe tbody tr th {\n",
       "        vertical-align: top;\n",
       "    }\n",
       "\n",
       "    .dataframe thead th {\n",
       "        text-align: right;\n",
       "    }\n",
       "</style>\n",
       "<table border=\"1\" class=\"dataframe\">\n",
       "  <thead>\n",
       "    <tr style=\"text-align: right;\">\n",
       "      <th></th>\n",
       "      <th>FGM</th>\n",
       "      <th>FGA</th>\n",
       "      <th>FG3M</th>\n",
       "      <th>FG3A</th>\n",
       "      <th>FTM</th>\n",
       "      <th>FTA</th>\n",
       "      <th>OREB</th>\n",
       "      <th>DREB</th>\n",
       "      <th>REB</th>\n",
       "      <th>AST</th>\n",
       "      <th>PF</th>\n",
       "      <th>STL</th>\n",
       "      <th>TOV</th>\n",
       "      <th>BLK</th>\n",
       "      <th>PTS</th>\n",
       "    </tr>\n",
       "  </thead>\n",
       "  <tbody>\n",
       "    <tr>\n",
       "      <th>31</th>\n",
       "      <td>40.722222</td>\n",
       "      <td>90.916667</td>\n",
       "      <td>13.111111</td>\n",
       "      <td>37.583333</td>\n",
       "      <td>17.569444</td>\n",
       "      <td>23.083333</td>\n",
       "      <td>10.513889</td>\n",
       "      <td>33.000000</td>\n",
       "      <td>43.513889</td>\n",
       "      <td>25.638889</td>\n",
       "      <td>20.930556</td>\n",
       "      <td>8.777778</td>\n",
       "      <td>14.263889</td>\n",
       "      <td>5.527778</td>\n",
       "      <td>112.125000</td>\n",
       "    </tr>\n",
       "    <tr>\n",
       "      <th>32</th>\n",
       "      <td>41.414286</td>\n",
       "      <td>91.142857</td>\n",
       "      <td>14.700000</td>\n",
       "      <td>41.585714</td>\n",
       "      <td>17.542857</td>\n",
       "      <td>22.685714</td>\n",
       "      <td>11.371429</td>\n",
       "      <td>33.214286</td>\n",
       "      <td>44.585714</td>\n",
       "      <td>25.542857</td>\n",
       "      <td>21.800000</td>\n",
       "      <td>8.828571</td>\n",
       "      <td>14.514286</td>\n",
       "      <td>5.800000</td>\n",
       "      <td>115.071429</td>\n",
       "    </tr>\n",
       "  </tbody>\n",
       "</table>\n",
       "</div>"
      ],
      "text/plain": [
       "          FGM        FGA       FG3M       FG3A        FTM        FTA  \\\n",
       "31  40.722222  90.916667  13.111111  37.583333  17.569444  23.083333   \n",
       "32  41.414286  91.142857  14.700000  41.585714  17.542857  22.685714   \n",
       "\n",
       "         OREB       DREB        REB        AST         PF       STL  \\\n",
       "31  10.513889  33.000000  43.513889  25.638889  20.930556  8.777778   \n",
       "32  11.371429  33.214286  44.585714  25.542857  21.800000  8.828571   \n",
       "\n",
       "          TOV       BLK         PTS  \n",
       "31  14.263889  5.527778  112.125000  \n",
       "32  14.514286  5.800000  115.071429  "
      ]
     },
     "execution_count": 46,
     "metadata": {},
     "output_type": "execute_result"
    }
   ],
   "source": [
    "check"
   ]
  },
  {
   "cell_type": "code",
   "execution_count": 100,
   "id": "8781a508",
   "metadata": {},
   "outputs": [],
   "source": [
    "from nba_api.stats.endpoints import playercareerstats\n",
    "# Anthony Davis\n",
    "career = playercareerstats.PlayerCareerStats(player_id=id_list[0])\n",
    "career.get_data_frames()[0].tail(2).iloc[:, 10:]\n",
    "kat_202021_seas = career.get_data_frames()[0].tail(2).iloc[0]\n",
    "kat_202122_seas = career.get_data_frames()[0].tail(2).iloc[1]"
   ]
  },
  {
   "cell_type": "code",
   "execution_count": 104,
   "id": "91505ff6",
   "metadata": {},
   "outputs": [
    {
     "data": {
      "text/html": [
       "<div>\n",
       "<style scoped>\n",
       "    .dataframe tbody tr th:only-of-type {\n",
       "        vertical-align: middle;\n",
       "    }\n",
       "\n",
       "    .dataframe tbody tr th {\n",
       "        vertical-align: top;\n",
       "    }\n",
       "\n",
       "    .dataframe thead th {\n",
       "        text-align: right;\n",
       "    }\n",
       "</style>\n",
       "<table border=\"1\" class=\"dataframe\">\n",
       "  <thead>\n",
       "    <tr style=\"text-align: right;\">\n",
       "      <th></th>\n",
       "      <th>PLAYER_ID</th>\n",
       "      <th>SEASON_ID</th>\n",
       "      <th>LEAGUE_ID</th>\n",
       "      <th>TEAM_ID</th>\n",
       "      <th>TEAM_ABBREVIATION</th>\n",
       "      <th>PLAYER_AGE</th>\n",
       "      <th>GP</th>\n",
       "      <th>GS</th>\n",
       "      <th>MIN</th>\n",
       "      <th>FGM</th>\n",
       "      <th>FGA</th>\n",
       "    </tr>\n",
       "  </thead>\n",
       "  <tbody>\n",
       "    <tr>\n",
       "      <th>5</th>\n",
       "      <td>1626157</td>\n",
       "      <td>2020-21</td>\n",
       "      <td>00</td>\n",
       "      <td>1610612750</td>\n",
       "      <td>MIN</td>\n",
       "      <td>25.0</td>\n",
       "      <td>50</td>\n",
       "      <td>50</td>\n",
       "      <td>1689.0</td>\n",
       "      <td>425</td>\n",
       "      <td>875</td>\n",
       "    </tr>\n",
       "    <tr>\n",
       "      <th>6</th>\n",
       "      <td>1626157</td>\n",
       "      <td>2021-22</td>\n",
       "      <td>00</td>\n",
       "      <td>1610612750</td>\n",
       "      <td>MIN</td>\n",
       "      <td>26.0</td>\n",
       "      <td>64</td>\n",
       "      <td>64</td>\n",
       "      <td>2145.0</td>\n",
       "      <td>560</td>\n",
       "      <td>1058</td>\n",
       "    </tr>\n",
       "  </tbody>\n",
       "</table>\n",
       "</div>"
      ],
      "text/plain": [
       "   PLAYER_ID SEASON_ID LEAGUE_ID     TEAM_ID TEAM_ABBREVIATION  PLAYER_AGE  \\\n",
       "5    1626157   2020-21        00  1610612750               MIN        25.0   \n",
       "6    1626157   2021-22        00  1610612750               MIN        26.0   \n",
       "\n",
       "   GP  GS     MIN  FGM   FGA  \n",
       "5  50  50  1689.0  425   875  \n",
       "6  64  64  2145.0  560  1058  "
      ]
     },
     "execution_count": 104,
     "metadata": {},
     "output_type": "execute_result"
    }
   ],
   "source": [
    "career.get_data_frames()[0].tail(2).iloc[:, 0:11]"
   ]
  },
  {
   "cell_type": "code",
   "execution_count": 103,
   "id": "d5f29c3b",
   "metadata": {
    "scrolled": false
   },
   "outputs": [
    {
     "data": {
      "text/html": [
       "<div>\n",
       "<style scoped>\n",
       "    .dataframe tbody tr th:only-of-type {\n",
       "        vertical-align: middle;\n",
       "    }\n",
       "\n",
       "    .dataframe tbody tr th {\n",
       "        vertical-align: top;\n",
       "    }\n",
       "\n",
       "    .dataframe thead th {\n",
       "        text-align: right;\n",
       "    }\n",
       "</style>\n",
       "<table border=\"1\" class=\"dataframe\">\n",
       "  <thead>\n",
       "    <tr style=\"text-align: right;\">\n",
       "      <th></th>\n",
       "      <th>FGA</th>\n",
       "      <th>FG_PCT</th>\n",
       "      <th>FG3M</th>\n",
       "      <th>FG3A</th>\n",
       "      <th>FG3_PCT</th>\n",
       "      <th>FTM</th>\n",
       "      <th>FTA</th>\n",
       "      <th>FT_PCT</th>\n",
       "      <th>OREB</th>\n",
       "      <th>DREB</th>\n",
       "      <th>REB</th>\n",
       "      <th>AST</th>\n",
       "      <th>STL</th>\n",
       "      <th>BLK</th>\n",
       "      <th>TOV</th>\n",
       "      <th>PF</th>\n",
       "      <th>PTS</th>\n",
       "    </tr>\n",
       "  </thead>\n",
       "  <tbody>\n",
       "    <tr>\n",
       "      <th>5</th>\n",
       "      <td>875</td>\n",
       "      <td>0.486</td>\n",
       "      <td>122</td>\n",
       "      <td>315</td>\n",
       "      <td>0.387</td>\n",
       "      <td>267</td>\n",
       "      <td>311</td>\n",
       "      <td>0.859</td>\n",
       "      <td>133</td>\n",
       "      <td>396</td>\n",
       "      <td>529</td>\n",
       "      <td>225</td>\n",
       "      <td>39</td>\n",
       "      <td>57</td>\n",
       "      <td>160</td>\n",
       "      <td>186</td>\n",
       "      <td>1239</td>\n",
       "    </tr>\n",
       "    <tr>\n",
       "      <th>6</th>\n",
       "      <td>1058</td>\n",
       "      <td>0.529</td>\n",
       "      <td>130</td>\n",
       "      <td>319</td>\n",
       "      <td>0.408</td>\n",
       "      <td>344</td>\n",
       "      <td>417</td>\n",
       "      <td>0.825</td>\n",
       "      <td>169</td>\n",
       "      <td>462</td>\n",
       "      <td>631</td>\n",
       "      <td>238</td>\n",
       "      <td>62</td>\n",
       "      <td>74</td>\n",
       "      <td>201</td>\n",
       "      <td>228</td>\n",
       "      <td>1594</td>\n",
       "    </tr>\n",
       "  </tbody>\n",
       "</table>\n",
       "</div>"
      ],
      "text/plain": [
       "    FGA  FG_PCT  FG3M  FG3A  FG3_PCT  FTM  FTA  FT_PCT  OREB  DREB  REB  AST  \\\n",
       "5   875   0.486   122   315    0.387  267  311   0.859   133   396  529  225   \n",
       "6  1058   0.529   130   319    0.408  344  417   0.825   169   462  631  238   \n",
       "\n",
       "   STL  BLK  TOV   PF   PTS  \n",
       "5   39   57  160  186  1239  \n",
       "6   62   74  201  228  1594  "
      ]
     },
     "execution_count": 103,
     "metadata": {},
     "output_type": "execute_result"
    }
   ],
   "source": [
    "career.get_data_frames()[0].tail(2).iloc[:, 10:]"
   ]
  },
  {
   "cell_type": "markdown",
   "id": "223d604a",
   "metadata": {},
   "source": [
    "When taking a look at KAT I am going to be comparing his season percentage in field goals, freethrows, and three point percetnage and for the rest of the stats I will be looking as his per game averages.\n",
    "\n",
    "First thing to note is that KAT was injured more in the 2020-21 season as he missed 22 games out of 72 games and in 2021-22 season so far he has only missed 7 games out of 71 games total. This in itself is a huge indication for the turnaround in the timberwolves season because KAT being our best player playing in more games this season will undoubtebly provide a huge positive impact.\n",
    "\n",
    "We now turn to the impact that KAT bring per game and compare the numbers between seasons.\n",
    "\n",
    "In the 2020-21 season, KAT averaged 24.8 pts, 10.6 reb, 4.5 ast, 1.1 blk, and .8 stl per game. His shooting split was 48.6/38.7/85.9 (fg%/3pt%/ft%). \n",
    "\n",
    "In the 2021-22 season, KAT averaged 24.9 pts, 9.9 reb, 3.7 ast, 1.2 blk, and .97 stl per game. His shooting split was 52.9/40.8/82.5 (fg%/3pt%/ft%). \n",
    "\n",
    "First thing I want to touch upon is KAT's scoring between the two seasons. This season he has been a much more efficient shooter with an increase in fg and 3pt percentages. He is shooting field goals 4% better than the previous season and this is also attempting 1 less fg a game! He has also been more efficient the 3 pointers at a lower clip per game with 1 less 3 pt attempt per game than last year while have a 2% greater 3pt % than last year. This all gets even better as KAT has played more games than last year and is actually scoring a little bit better than last year with more games played! All in all KAT has been having an amazing offensive year while being more efficient than last year.\n",
    "\n",
    "Next I want to compare the amazing offensive year KAT is having to two of the leading big men in the lead and top 2 in the NBA MVP race these days. I will compare KATS stats to that of Joel Embiid and Nikola Jokic for this year"
   ]
  },
  {
   "cell_type": "code",
   "execution_count": 102,
   "id": "4585b564",
   "metadata": {},
   "outputs": [
    {
     "data": {
      "text/plain": [
       "FGM         8.75\n",
       "FGA     16.53125\n",
       "FG3M     2.03125\n",
       "FG3A    4.984375\n",
       "FTM        5.375\n",
       "FTA     6.515625\n",
       "OREB    2.640625\n",
       "DREB     7.21875\n",
       "REB     9.859375\n",
       "AST      3.71875\n",
       "PF        3.5625\n",
       "STL      0.96875\n",
       "TOV     3.140625\n",
       "BLK      1.15625\n",
       "PTS     24.90625\n",
       "Name: 6, dtype: object"
      ]
     },
     "execution_count": 102,
     "metadata": {},
     "output_type": "execute_result"
    }
   ],
   "source": [
    "kat_202122_seas[['FGM', 'FGA', 'FG3M', 'FG3A', 'FTM', 'FTA','OREB', 'DREB', 'REB', 'AST', 'PF', 'STL', 'TOV', 'BLK', 'PTS']].div(kat_202122_seas.GP, axis=0)"
   ]
  },
  {
   "cell_type": "code",
   "execution_count": 101,
   "id": "9a97045c",
   "metadata": {
    "scrolled": true
   },
   "outputs": [
    {
     "data": {
      "text/plain": [
       "FGM       8.5\n",
       "FGA      17.5\n",
       "FG3M     2.44\n",
       "FG3A      6.3\n",
       "FTM      5.34\n",
       "FTA      6.22\n",
       "OREB     2.66\n",
       "DREB     7.92\n",
       "REB     10.58\n",
       "AST       4.5\n",
       "PF       3.72\n",
       "STL      0.78\n",
       "TOV       3.2\n",
       "BLK      1.14\n",
       "PTS     24.78\n",
       "Name: 5, dtype: object"
      ]
     },
     "execution_count": 101,
     "metadata": {},
     "output_type": "execute_result"
    }
   ],
   "source": [
    "kat_202021_seas[['FGM', 'FGA', 'FG3M', 'FG3A', 'FTM', 'FTA','OREB', 'DREB', 'REB', 'AST', 'PF', 'STL', 'TOV', 'BLK', 'PTS']].div(kat_202021_seas.GP, axis=0)"
   ]
  },
  {
   "cell_type": "code",
   "execution_count": 8,
   "id": "4ca75581",
   "metadata": {},
   "outputs": [],
   "source": [
    "# First get all the wolves games then filter for 2020-21 season and 2021-22 season\n",
    "from nba_api.stats.endpoints import leaguegamefinder\n",
    "\n",
    "tw_games = leaguegamefinder.LeagueGameFinder(team_id_nullable=twolves_id).get_data_frames()[0]\n",
    "game_id_list_202122 = tw_games[tw_games['GAME_DATE'] >= '2021-10-20']['GAME_ID']\n",
    "game_id_list_202021 = tw_games[(tw_games['GAME_DATE'] >= '2020-12-23') & (tw_games['GAME_DATE'] <= '2021-05-16')]['GAME_ID']\n",
    "game_id_list_202021.reset_index(drop=True, inplace=True)"
   ]
  },
  {
   "cell_type": "code",
   "execution_count": 41,
   "id": "c4f8c2c5",
   "metadata": {},
   "outputs": [],
   "source": [
    "game_id_list_202122 = tw_games[tw_games['GAME_DATE'] >= '2021-10-20']"
   ]
  },
  {
   "cell_type": "code",
   "execution_count": 50,
   "id": "fbef7e1c",
   "metadata": {},
   "outputs": [],
   "source": [
    "seas_id_202122 = game_id_list_202122['SEASON_ID'][0]\n",
    "seas_id_202021 = game_id_list_202021[0]"
   ]
  },
  {
   "cell_type": "code",
   "execution_count": 40,
   "id": "d95a0ff4",
   "metadata": {},
   "outputs": [
    {
     "data": {
      "text/plain": [
       "[         GAME_DATE_EST  GAME_SEQUENCE     GAME_ID  GAME_STATUS_ID  \\\n",
       " 0  2021-05-16T00:00:00             11  0022001071               3   \n",
       " \n",
       "   GAME_STATUS_TEXT         GAMECODE  HOME_TEAM_ID  VISITOR_TEAM_ID SEASON  \\\n",
       " 0            Final  20210516/DALMIN    1610612750       1610612742   2020   \n",
       " \n",
       "    LIVE_PERIOD LIVE_PC_TIME NATL_TV_BROADCASTER_ABBREVIATION  \\\n",
       " 0            4                                          None   \n",
       " \n",
       "   LIVE_PERIOD_TIME_BCAST  WH_STATUS  \n",
       " 0                 Q4  -           1  ,\n",
       "   LEAGUE_ID     TEAM_ID TEAM_ABBREVIATION  TEAM_CITY  PTS_PAINT  \\\n",
       " 0        00  1610612750               MIN  Minnesota         62   \n",
       " 1        00  1610612742               DAL     Dallas         38   \n",
       " \n",
       "    PTS_2ND_CHANCE  PTS_FB  LARGEST_LEAD  LEAD_CHANGES  TIMES_TIED  \\\n",
       " 0              16      15            24             2           0   \n",
       " 1              20       7             3             2           0   \n",
       " \n",
       "    TEAM_TURNOVERS  TOTAL_TURNOVERS  TEAM_REBOUNDS  PTS_OFF_TO  \n",
       " 0               1               10              9          18  \n",
       " 1               0               16             10          19  ,\n",
       "    OFFICIAL_ID FIRST_NAME LAST_NAME JERSEY_NUM\n",
       " 0       202041      Kevin     Scott         24\n",
       " 1      1627534       Andy      Nagy         83\n",
       " 2       201638      Brent   Barnaky         36,\n",
       "    PLAYER_ID FIRST_NAME LAST_NAME JERSEY_NUM     TEAM_ID  TEAM_CITY  \\\n",
       " 0     200755         JJ    Redick         17  1610612742     Dallas   \n",
       " 1    1630179     Tyrell     Terry          1  1610612742     Dallas   \n",
       " 2    1627736      Malik   Beasley          5  1610612750  Minnesota   \n",
       " 3    1629633    Jarrett    Culver         23  1610612750  Minnesota   \n",
       " \n",
       "       TEAM_NAME TEAM_ABBREVIATION  \n",
       " 0     Mavericks               DAL  \n",
       " 1     Mavericks               DAL  \n",
       " 2  Timberwolves               MIN  \n",
       " 3  Timberwolves               MIN  ,\n",
       "               GAME_DATE  ATTENDANCE GAME_TIME\n",
       " 0  SUNDAY, MAY 16, 2021        1638      2:12,\n",
       "          GAME_DATE_EST  GAME_SEQUENCE     GAME_ID     TEAM_ID  \\\n",
       " 0  2021-05-16T00:00:00             11  0022001071  1610612750   \n",
       " 1  2021-05-16T00:00:00             11  0022001071  1610612742   \n",
       " \n",
       "   TEAM_ABBREVIATION TEAM_CITY_NAME TEAM_NICKNAME TEAM_WINS_LOSSES  PTS_QTR1  \\\n",
       " 0               MIN      Minnesota  Timberwolves            23-49        38   \n",
       " 1               DAL         Dallas     Mavericks            42-30        22   \n",
       " \n",
       "    PTS_QTR2  ...  PTS_OT2  PTS_OT3  PTS_OT4  PTS_OT5  PTS_OT6  PTS_OT7  \\\n",
       " 0        38  ...        0        0        0        0        0        0   \n",
       " 1        38  ...        0        0        0        0        0        0   \n",
       " \n",
       "    PTS_OT8  PTS_OT9  PTS_OT10  PTS  \n",
       " 0        0        0         0  136  \n",
       " 1        0        0         0  121  \n",
       " \n",
       " [2 rows x 23 columns],\n",
       "       GAME_ID LAST_GAME_ID   LAST_GAME_DATE_EST  LAST_GAME_HOME_TEAM_ID  \\\n",
       " 0  0022001071   0022000673  2021-03-24T00:00:00              1610612750   \n",
       " \n",
       "   LAST_GAME_HOME_TEAM_CITY LAST_GAME_HOME_TEAM_NAME  \\\n",
       " 0                Minnesota             Timberwolves   \n",
       " \n",
       "   LAST_GAME_HOME_TEAM_ABBREVIATION  LAST_GAME_HOME_TEAM_POINTS  \\\n",
       " 0                              MIN                         108   \n",
       " \n",
       "    LAST_GAME_VISITOR_TEAM_ID LAST_GAME_VISITOR_TEAM_CITY  \\\n",
       " 0                 1610612742                      Dallas   \n",
       " \n",
       "   LAST_GAME_VISITOR_TEAM_NAME LAST_GAME_VISITOR_TEAM_CITY1  \\\n",
       " 0                   Mavericks                          DAL   \n",
       " \n",
       "    LAST_GAME_VISITOR_TEAM_POINTS  \n",
       " 0                            128  ,\n",
       "       GAME_ID  HOME_TEAM_ID  VISITOR_TEAM_ID        GAME_DATE_EST  \\\n",
       " 0  0022001071    1610612750       1610612742  2021-05-16T00:00:00   \n",
       " \n",
       "    HOME_TEAM_WINS  HOME_TEAM_LOSSES SERIES_LEADER  \n",
       " 0               1                 2        Dallas  ,\n",
       "       GAME_ID  VIDEO_AVAILABLE_FLAG  PT_AVAILABLE  PT_XYZ_AVAILABLE  \\\n",
       " 0  0022001071                     1             1                 0   \n",
       " \n",
       "    WH_STATUS  HUSTLE_STATUS  HISTORICAL_STATUS  \n",
       " 0          1              1                  0  ]"
      ]
     },
     "execution_count": 40,
     "metadata": {},
     "output_type": "execute_result"
    }
   ],
   "source": [
    "boxscoresummaryv2.BoxScoreSummaryV2(game_id = game_id_list_202021[0]).get_data_frames()"
   ]
  },
  {
   "cell_type": "code",
   "execution_count": 35,
   "id": "71b38dba",
   "metadata": {},
   "outputs": [],
   "source": [
    "#Now we want to iterate through and get the average difference in pts per game for each season\n",
    "from nba_api.stats.endpoints import boxscoresummaryv2\n",
    "tot_pts_diff = 0\n",
    "\n",
    "for i in range(len(game_id_list_202021)):\n",
    "    pts = boxscoresummaryv2.BoxScoreSummaryV2(game_id = game_id_list_202021[i]).get_data_frames()[5]['PTS']\n",
    "    pts_diff = abs(pts[0]-pts[1])\n",
    "    tot_pts_diff = tot_pts_diff + pts_diff"
   ]
  },
  {
   "cell_type": "code",
   "execution_count": 10,
   "id": "bcfb768d",
   "metadata": {},
   "outputs": [
    {
     "data": {
      "text/plain": [
       "971"
      ]
     },
     "execution_count": 10,
     "metadata": {},
     "output_type": "execute_result"
    }
   ],
   "source": [
    "#2021-22 Season\n",
    "tot_pts_diff"
   ]
  },
  {
   "cell_type": "code",
   "execution_count": 38,
   "id": "aba0158c",
   "metadata": {},
   "outputs": [
    {
     "data": {
      "text/plain": [
       "13.67605633802817"
      ]
     },
     "execution_count": 38,
     "metadata": {},
     "output_type": "execute_result"
    }
   ],
   "source": [
    "971/71"
   ]
  },
  {
   "cell_type": "code",
   "execution_count": 36,
   "id": "ea66cddd",
   "metadata": {},
   "outputs": [
    {
     "data": {
      "text/plain": [
       "830"
      ]
     },
     "execution_count": 36,
     "metadata": {},
     "output_type": "execute_result"
    }
   ],
   "source": [
    "#2020-21 Season\n",
    "tot_pts_diff"
   ]
  },
  {
   "cell_type": "code",
   "execution_count": 37,
   "id": "48ef8e09",
   "metadata": {},
   "outputs": [
    {
     "data": {
      "text/plain": [
       "11.527777777777779"
      ]
     },
     "execution_count": 37,
     "metadata": {},
     "output_type": "execute_result"
    }
   ],
   "source": [
    "830/72"
   ]
  },
  {
   "cell_type": "code",
   "execution_count": 51,
   "id": "fca91c3f",
   "metadata": {},
   "outputs": [
    {
     "ename": "TypeError",
     "evalue": "__init__() got an unexpected keyword argument 'season_id'",
     "output_type": "error",
     "traceback": [
      "\u001b[1;31m---------------------------------------------------------------------------\u001b[0m",
      "\u001b[1;31mTypeError\u001b[0m                                 Traceback (most recent call last)",
      "\u001b[1;32m<ipython-input-51-b62ec2d0c55d>\u001b[0m in \u001b[0;36m<module>\u001b[1;34m\u001b[0m\n\u001b[0;32m      1\u001b[0m \u001b[1;32mfrom\u001b[0m \u001b[0mnba_api\u001b[0m\u001b[1;33m.\u001b[0m\u001b[0mstats\u001b[0m\u001b[1;33m.\u001b[0m\u001b[0mendpoints\u001b[0m \u001b[1;32mimport\u001b[0m \u001b[0mplayercareerstats\u001b[0m\u001b[1;33m\u001b[0m\u001b[1;33m\u001b[0m\u001b[0m\n\u001b[1;32m----> 2\u001b[1;33m \u001b[0mtwolves_play_202021\u001b[0m \u001b[1;33m=\u001b[0m \u001b[0mplayercareerstats\u001b[0m\u001b[1;33m.\u001b[0m\u001b[0mPlayerCareerStats\u001b[0m\u001b[1;33m(\u001b[0m\u001b[0mseason_id\u001b[0m \u001b[1;33m=\u001b[0m \u001b[0mseas_id_202122\u001b[0m\u001b[1;33m)\u001b[0m\u001b[1;33m\u001b[0m\u001b[1;33m\u001b[0m\u001b[0m\n\u001b[0m",
      "\u001b[1;31mTypeError\u001b[0m: __init__() got an unexpected keyword argument 'season_id'"
     ]
    }
   ],
   "source": [
    "from nba_api.stats.endpoints import playercareerstats\n",
    "twolves_play_202021 = playercareerstats.PlayerCareerStats(player_id = seas_id_202122)\n"
   ]
  },
  {
   "cell_type": "code",
   "execution_count": null,
   "id": "d189fc4c",
   "metadata": {},
   "outputs": [],
   "source": []
  },
  {
   "cell_type": "code",
   "execution_count": 71,
   "id": "25d54c63",
   "metadata": {},
   "outputs": [],
   "source": [
    "try1 = tw_games.iloc[0]['GAME_ID']"
   ]
  },
  {
   "cell_type": "code",
   "execution_count": 85,
   "id": "3efb1dd7",
   "metadata": {},
   "outputs": [
    {
     "data": {
      "text/plain": [
       "10"
      ]
     },
     "execution_count": 85,
     "metadata": {},
     "output_type": "execute_result"
    }
   ],
   "source": [
    "from nba_api.stats.endpoints import boxscoresummaryv2\n",
    "\n",
    "#this time we convert it to a dataframe in the same line of code\n",
    "pts = boxscoresummaryv2.BoxScoreSummaryV2(game_id = try1).get_data_frames()[5]['PTS']\n",
    "pts_diff = abs(pts[0]-pts[1])\n",
    "pts_diff"
   ]
  },
  {
   "cell_type": "code",
   "execution_count": null,
   "id": "ba6ecad8",
   "metadata": {},
   "outputs": [],
   "source": [
    "# First get all the "
   ]
  },
  {
   "cell_type": "code",
   "execution_count": 62,
   "id": "ddc820e6",
   "metadata": {},
   "outputs": [
    {
     "data": {
      "text/html": [
       "<div>\n",
       "<style scoped>\n",
       "    .dataframe tbody tr th:only-of-type {\n",
       "        vertical-align: middle;\n",
       "    }\n",
       "\n",
       "    .dataframe tbody tr th {\n",
       "        vertical-align: top;\n",
       "    }\n",
       "\n",
       "    .dataframe thead th {\n",
       "        text-align: right;\n",
       "    }\n",
       "</style>\n",
       "<table border=\"1\" class=\"dataframe\">\n",
       "  <thead>\n",
       "    <tr style=\"text-align: right;\">\n",
       "      <th></th>\n",
       "      <th>SEASON_YEAR</th>\n",
       "      <th>TEAM_ID</th>\n",
       "      <th>TEAM_ABBREVIATION</th>\n",
       "      <th>TEAM_NAME</th>\n",
       "      <th>GAME_ID</th>\n",
       "      <th>GAME_DATE</th>\n",
       "      <th>MATCHUP</th>\n",
       "      <th>WL</th>\n",
       "      <th>MIN</th>\n",
       "      <th>FGM</th>\n",
       "      <th>...</th>\n",
       "      <th>REB_RANK</th>\n",
       "      <th>AST_RANK</th>\n",
       "      <th>TOV_RANK</th>\n",
       "      <th>STL_RANK</th>\n",
       "      <th>BLK_RANK</th>\n",
       "      <th>BLKA_RANK</th>\n",
       "      <th>PF_RANK</th>\n",
       "      <th>PFD_RANK</th>\n",
       "      <th>PTS_RANK</th>\n",
       "      <th>PLUS_MINUS_RANK</th>\n",
       "    </tr>\n",
       "  </thead>\n",
       "  <tbody>\n",
       "    <tr>\n",
       "      <th>0</th>\n",
       "      <td>2016-17</td>\n",
       "      <td>1610612750</td>\n",
       "      <td>MIN</td>\n",
       "      <td>Minnesota Timberwolves</td>\n",
       "      <td>0021601224</td>\n",
       "      <td>2017-04-12T00:00:00</td>\n",
       "      <td>MIN @ HOU</td>\n",
       "      <td>L</td>\n",
       "      <td>48.0</td>\n",
       "      <td>48</td>\n",
       "      <td>...</td>\n",
       "      <td>13</td>\n",
       "      <td>1</td>\n",
       "      <td>48</td>\n",
       "      <td>49</td>\n",
       "      <td>51</td>\n",
       "      <td>63</td>\n",
       "      <td>7</td>\n",
       "      <td>79</td>\n",
       "      <td>10</td>\n",
       "      <td>45</td>\n",
       "    </tr>\n",
       "    <tr>\n",
       "      <th>1</th>\n",
       "      <td>2016-17</td>\n",
       "      <td>1610612750</td>\n",
       "      <td>MIN</td>\n",
       "      <td>Minnesota Timberwolves</td>\n",
       "      <td>0021601213</td>\n",
       "      <td>2017-04-11T00:00:00</td>\n",
       "      <td>MIN vs. OKC</td>\n",
       "      <td>L</td>\n",
       "      <td>48.0</td>\n",
       "      <td>38</td>\n",
       "      <td>...</td>\n",
       "      <td>71</td>\n",
       "      <td>39</td>\n",
       "      <td>10</td>\n",
       "      <td>5</td>\n",
       "      <td>51</td>\n",
       "      <td>21</td>\n",
       "      <td>18</td>\n",
       "      <td>31</td>\n",
       "      <td>62</td>\n",
       "      <td>33</td>\n",
       "    </tr>\n",
       "    <tr>\n",
       "      <th>2</th>\n",
       "      <td>2016-17</td>\n",
       "      <td>1610612750</td>\n",
       "      <td>MIN</td>\n",
       "      <td>Minnesota Timberwolves</td>\n",
       "      <td>0021601202</td>\n",
       "      <td>2017-04-09T00:00:00</td>\n",
       "      <td>MIN @ LAL</td>\n",
       "      <td>L</td>\n",
       "      <td>48.0</td>\n",
       "      <td>40</td>\n",
       "      <td>...</td>\n",
       "      <td>45</td>\n",
       "      <td>16</td>\n",
       "      <td>48</td>\n",
       "      <td>35</td>\n",
       "      <td>16</td>\n",
       "      <td>71</td>\n",
       "      <td>15</td>\n",
       "      <td>15</td>\n",
       "      <td>30</td>\n",
       "      <td>32</td>\n",
       "    </tr>\n",
       "    <tr>\n",
       "      <th>3</th>\n",
       "      <td>2016-17</td>\n",
       "      <td>1610612750</td>\n",
       "      <td>MIN</td>\n",
       "      <td>Minnesota Timberwolves</td>\n",
       "      <td>0021601185</td>\n",
       "      <td>2017-04-07T00:00:00</td>\n",
       "      <td>MIN @ UTA</td>\n",
       "      <td>L</td>\n",
       "      <td>48.0</td>\n",
       "      <td>39</td>\n",
       "      <td>...</td>\n",
       "      <td>74</td>\n",
       "      <td>48</td>\n",
       "      <td>22</td>\n",
       "      <td>8</td>\n",
       "      <td>77</td>\n",
       "      <td>63</td>\n",
       "      <td>72</td>\n",
       "      <td>31</td>\n",
       "      <td>19</td>\n",
       "      <td>50</td>\n",
       "    </tr>\n",
       "    <tr>\n",
       "      <th>4</th>\n",
       "      <td>2016-17</td>\n",
       "      <td>1610612750</td>\n",
       "      <td>MIN</td>\n",
       "      <td>Minnesota Timberwolves</td>\n",
       "      <td>0021601178</td>\n",
       "      <td>2017-04-06T00:00:00</td>\n",
       "      <td>MIN @ POR</td>\n",
       "      <td>L</td>\n",
       "      <td>48.0</td>\n",
       "      <td>38</td>\n",
       "      <td>...</td>\n",
       "      <td>20</td>\n",
       "      <td>77</td>\n",
       "      <td>27</td>\n",
       "      <td>49</td>\n",
       "      <td>38</td>\n",
       "      <td>21</td>\n",
       "      <td>36</td>\n",
       "      <td>44</td>\n",
       "      <td>62</td>\n",
       "      <td>50</td>\n",
       "    </tr>\n",
       "    <tr>\n",
       "      <th>...</th>\n",
       "      <td>...</td>\n",
       "      <td>...</td>\n",
       "      <td>...</td>\n",
       "      <td>...</td>\n",
       "      <td>...</td>\n",
       "      <td>...</td>\n",
       "      <td>...</td>\n",
       "      <td>...</td>\n",
       "      <td>...</td>\n",
       "      <td>...</td>\n",
       "      <td>...</td>\n",
       "      <td>...</td>\n",
       "      <td>...</td>\n",
       "      <td>...</td>\n",
       "      <td>...</td>\n",
       "      <td>...</td>\n",
       "      <td>...</td>\n",
       "      <td>...</td>\n",
       "      <td>...</td>\n",
       "      <td>...</td>\n",
       "      <td>...</td>\n",
       "    </tr>\n",
       "    <tr>\n",
       "      <th>77</th>\n",
       "      <td>2016-17</td>\n",
       "      <td>1610612750</td>\n",
       "      <td>MIN</td>\n",
       "      <td>Minnesota Timberwolves</td>\n",
       "      <td>0021600079</td>\n",
       "      <td>2016-11-05T00:00:00</td>\n",
       "      <td>MIN @ OKC</td>\n",
       "      <td>L</td>\n",
       "      <td>48.0</td>\n",
       "      <td>33</td>\n",
       "      <td>...</td>\n",
       "      <td>45</td>\n",
       "      <td>82</td>\n",
       "      <td>65</td>\n",
       "      <td>49</td>\n",
       "      <td>6</td>\n",
       "      <td>78</td>\n",
       "      <td>24</td>\n",
       "      <td>31</td>\n",
       "      <td>73</td>\n",
       "      <td>78</td>\n",
       "    </tr>\n",
       "    <tr>\n",
       "      <th>78</th>\n",
       "      <td>2016-17</td>\n",
       "      <td>1610612750</td>\n",
       "      <td>MIN</td>\n",
       "      <td>Minnesota Timberwolves</td>\n",
       "      <td>0021600067</td>\n",
       "      <td>2016-11-03T00:00:00</td>\n",
       "      <td>MIN vs. DEN</td>\n",
       "      <td>L</td>\n",
       "      <td>48.0</td>\n",
       "      <td>35</td>\n",
       "      <td>...</td>\n",
       "      <td>34</td>\n",
       "      <td>61</td>\n",
       "      <td>61</td>\n",
       "      <td>35</td>\n",
       "      <td>38</td>\n",
       "      <td>2</td>\n",
       "      <td>56</td>\n",
       "      <td>10</td>\n",
       "      <td>59</td>\n",
       "      <td>40</td>\n",
       "    </tr>\n",
       "    <tr>\n",
       "      <th>79</th>\n",
       "      <td>2016-17</td>\n",
       "      <td>1610612750</td>\n",
       "      <td>MIN</td>\n",
       "      <td>Minnesota Timberwolves</td>\n",
       "      <td>0021600052</td>\n",
       "      <td>2016-11-01T00:00:00</td>\n",
       "      <td>MIN vs. MEM</td>\n",
       "      <td>W</td>\n",
       "      <td>48.0</td>\n",
       "      <td>43</td>\n",
       "      <td>...</td>\n",
       "      <td>9</td>\n",
       "      <td>9</td>\n",
       "      <td>79</td>\n",
       "      <td>22</td>\n",
       "      <td>26</td>\n",
       "      <td>21</td>\n",
       "      <td>56</td>\n",
       "      <td>25</td>\n",
       "      <td>13</td>\n",
       "      <td>1</td>\n",
       "    </tr>\n",
       "    <tr>\n",
       "      <th>80</th>\n",
       "      <td>2016-17</td>\n",
       "      <td>1610612750</td>\n",
       "      <td>MIN</td>\n",
       "      <td>Minnesota Timberwolves</td>\n",
       "      <td>0021600034</td>\n",
       "      <td>2016-10-29T00:00:00</td>\n",
       "      <td>MIN @ SAC</td>\n",
       "      <td>L</td>\n",
       "      <td>48.0</td>\n",
       "      <td>37</td>\n",
       "      <td>...</td>\n",
       "      <td>67</td>\n",
       "      <td>68</td>\n",
       "      <td>38</td>\n",
       "      <td>56</td>\n",
       "      <td>26</td>\n",
       "      <td>38</td>\n",
       "      <td>72</td>\n",
       "      <td>10</td>\n",
       "      <td>49</td>\n",
       "      <td>40</td>\n",
       "    </tr>\n",
       "    <tr>\n",
       "      <th>81</th>\n",
       "      <td>2016-17</td>\n",
       "      <td>1610612750</td>\n",
       "      <td>MIN</td>\n",
       "      <td>Minnesota Timberwolves</td>\n",
       "      <td>0021600009</td>\n",
       "      <td>2016-10-26T00:00:00</td>\n",
       "      <td>MIN @ MEM</td>\n",
       "      <td>L</td>\n",
       "      <td>48.0</td>\n",
       "      <td>36</td>\n",
       "      <td>...</td>\n",
       "      <td>26</td>\n",
       "      <td>61</td>\n",
       "      <td>10</td>\n",
       "      <td>56</td>\n",
       "      <td>26</td>\n",
       "      <td>82</td>\n",
       "      <td>62</td>\n",
       "      <td>6</td>\n",
       "      <td>62</td>\n",
       "      <td>42</td>\n",
       "    </tr>\n",
       "  </tbody>\n",
       "</table>\n",
       "<p>82 rows × 56 columns</p>\n",
       "</div>"
      ],
      "text/plain": [
       "   SEASON_YEAR     TEAM_ID TEAM_ABBREVIATION               TEAM_NAME  \\\n",
       "0      2016-17  1610612750               MIN  Minnesota Timberwolves   \n",
       "1      2016-17  1610612750               MIN  Minnesota Timberwolves   \n",
       "2      2016-17  1610612750               MIN  Minnesota Timberwolves   \n",
       "3      2016-17  1610612750               MIN  Minnesota Timberwolves   \n",
       "4      2016-17  1610612750               MIN  Minnesota Timberwolves   \n",
       "..         ...         ...               ...                     ...   \n",
       "77     2016-17  1610612750               MIN  Minnesota Timberwolves   \n",
       "78     2016-17  1610612750               MIN  Minnesota Timberwolves   \n",
       "79     2016-17  1610612750               MIN  Minnesota Timberwolves   \n",
       "80     2016-17  1610612750               MIN  Minnesota Timberwolves   \n",
       "81     2016-17  1610612750               MIN  Minnesota Timberwolves   \n",
       "\n",
       "       GAME_ID            GAME_DATE      MATCHUP WL   MIN  FGM  ...  REB_RANK  \\\n",
       "0   0021601224  2017-04-12T00:00:00    MIN @ HOU  L  48.0   48  ...        13   \n",
       "1   0021601213  2017-04-11T00:00:00  MIN vs. OKC  L  48.0   38  ...        71   \n",
       "2   0021601202  2017-04-09T00:00:00    MIN @ LAL  L  48.0   40  ...        45   \n",
       "3   0021601185  2017-04-07T00:00:00    MIN @ UTA  L  48.0   39  ...        74   \n",
       "4   0021601178  2017-04-06T00:00:00    MIN @ POR  L  48.0   38  ...        20   \n",
       "..         ...                  ...          ... ..   ...  ...  ...       ...   \n",
       "77  0021600079  2016-11-05T00:00:00    MIN @ OKC  L  48.0   33  ...        45   \n",
       "78  0021600067  2016-11-03T00:00:00  MIN vs. DEN  L  48.0   35  ...        34   \n",
       "79  0021600052  2016-11-01T00:00:00  MIN vs. MEM  W  48.0   43  ...         9   \n",
       "80  0021600034  2016-10-29T00:00:00    MIN @ SAC  L  48.0   37  ...        67   \n",
       "81  0021600009  2016-10-26T00:00:00    MIN @ MEM  L  48.0   36  ...        26   \n",
       "\n",
       "    AST_RANK  TOV_RANK  STL_RANK  BLK_RANK  BLKA_RANK  PF_RANK  PFD_RANK  \\\n",
       "0          1        48        49        51         63        7        79   \n",
       "1         39        10         5        51         21       18        31   \n",
       "2         16        48        35        16         71       15        15   \n",
       "3         48        22         8        77         63       72        31   \n",
       "4         77        27        49        38         21       36        44   \n",
       "..       ...       ...       ...       ...        ...      ...       ...   \n",
       "77        82        65        49         6         78       24        31   \n",
       "78        61        61        35        38          2       56        10   \n",
       "79         9        79        22        26         21       56        25   \n",
       "80        68        38        56        26         38       72        10   \n",
       "81        61        10        56        26         82       62         6   \n",
       "\n",
       "    PTS_RANK  PLUS_MINUS_RANK  \n",
       "0         10               45  \n",
       "1         62               33  \n",
       "2         30               32  \n",
       "3         19               50  \n",
       "4         62               50  \n",
       "..       ...              ...  \n",
       "77        73               78  \n",
       "78        59               40  \n",
       "79        13                1  \n",
       "80        49               40  \n",
       "81        62               42  \n",
       "\n",
       "[82 rows x 56 columns]"
      ]
     },
     "execution_count": 62,
     "metadata": {},
     "output_type": "execute_result"
    }
   ],
   "source": [
    "tw_games"
   ]
  },
  {
   "cell_type": "code",
   "execution_count": null,
   "id": "efea58a0",
   "metadata": {},
   "outputs": [],
   "source": []
  }
 ],
 "metadata": {
  "kernelspec": {
   "display_name": "Python 3",
   "language": "python",
   "name": "python3"
  },
  "language_info": {
   "codemirror_mode": {
    "name": "ipython",
    "version": 3
   },
   "file_extension": ".py",
   "mimetype": "text/x-python",
   "name": "python",
   "nbconvert_exporter": "python",
   "pygments_lexer": "ipython3",
   "version": "3.8.8"
  }
 },
 "nbformat": 4,
 "nbformat_minor": 5
}
