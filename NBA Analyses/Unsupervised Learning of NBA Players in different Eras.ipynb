{
 "cells": [
  {
   "cell_type": "markdown",
   "id": "01360bb7",
   "metadata": {},
   "source": [
    "Look into Pete Maravich Stats\n",
    "If you look at 1980, there are three entries for Pete Maravich because he transferred midseason from Utah to Boston (or vice versa), so he has a row for his stats from playing for Utah, Boston, and then TOT (total statistics from the 1980 season). For it to be the same as basketballreference.com, I think you need to use either the total from that season or just the individual numbers for his time with Utah or Boston."
   ]
  },
  {
   "cell_type": "markdown",
   "id": "120afc24",
   "metadata": {},
   "source": [
    "Goal is to be able to see natural cluster that form for the 1980 to 1990 and see if that differs for 2010 to 2020"
   ]
  },
  {
   "cell_type": "markdown",
   "id": "00662594",
   "metadata": {},
   "source": [
    "# Data import and exploratory analyses"
   ]
  },
  {
   "cell_type": "code",
   "execution_count": null,
   "id": "af310da4",
   "metadata": {},
   "outputs": [],
   "source": [
    "import numpy as np\n",
    "import pandas as pd\n",
    "import matplotlib.pyplot as plt\n",
    "import seaborn as sns\n",
    "%inline matplotlib"
   ]
  },
  {
   "cell_type": "markdown",
   "id": "a5d7cfc9",
   "metadata": {},
   "source": [
    "We now want to preprocess the data to be in the best format for clustering so join tables"
   ]
  }
 ],
 "metadata": {
  "kernelspec": {
   "display_name": "Python 3 (ipykernel)",
   "language": "python",
   "name": "python3"
  },
  "language_info": {
   "codemirror_mode": {
    "name": "ipython",
    "version": 3
   },
   "file_extension": ".py",
   "mimetype": "text/x-python",
   "name": "python",
   "nbconvert_exporter": "python",
   "pygments_lexer": "ipython3",
   "version": "3.8.13"
  }
 },
 "nbformat": 4,
 "nbformat_minor": 5
}
