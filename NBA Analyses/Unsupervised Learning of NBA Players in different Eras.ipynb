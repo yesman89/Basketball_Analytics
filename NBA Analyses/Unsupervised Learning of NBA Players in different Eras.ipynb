{
 "cells": [
  {
   "cell_type": "markdown",
   "id": "01360bb7",
   "metadata": {},
   "source": [
    "Look into Pete Maravich Stats\n",
    "If you look at 1980, there are three entries for Pete Maravich because he transferred midseason from Utah to Boston (or vice versa), so he has a row for his stats from playing for Utah, Boston, and then TOT (total statistics from the 1980 season). For it to be the same as basketballreference.com, I think you need to use either the total from that season or just the individual numbers for his time with Utah or Boston."
   ]
  },
  {
   "cell_type": "markdown",
   "id": "120afc24",
   "metadata": {},
   "source": [
    "Goal is to be able to see natural cluster that form for the 1980 to 1990 and see if that differs for 2010 to 2020"
   ]
  }
 ],
 "metadata": {
  "kernelspec": {
   "display_name": "Python 3 (ipykernel)",
   "language": "python",
   "name": "python3"
  },
  "language_info": {
   "codemirror_mode": {
    "name": "ipython",
    "version": 3
   },
   "file_extension": ".py",
   "mimetype": "text/x-python",
   "name": "python",
   "nbconvert_exporter": "python",
   "pygments_lexer": "ipython3",
   "version": "3.9.12"
  }
 },
 "nbformat": 4,
 "nbformat_minor": 5
}
